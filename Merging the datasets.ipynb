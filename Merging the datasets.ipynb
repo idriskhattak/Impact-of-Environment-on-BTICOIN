{
 "cells": [
  {
   "cell_type": "code",
   "execution_count": 1,
   "metadata": {},
   "outputs": [],
   "source": [
    "import pandas as pd"
   ]
  },
  {
   "cell_type": "markdown",
   "metadata": {},
   "source": [
    "# Loading the Datasets"
   ]
  },
  {
   "cell_type": "code",
   "execution_count": 5,
   "metadata": {},
   "outputs": [],
   "source": [
    "cpu_data = pd.read_csv(\"DATA/CPU index.csv\")\n",
    "vix_data = pd.read_csv(\"DATA/_VIX (1).csv\")\n",
    "BTC_data = pd.read_csv(\"DATA/BTC-USD.csv\")\n",
    "co2_data = pd.read_csv('DATA/CO2-emission.csv')\n",
    "electricity_consumption_data = pd.read_csv('DATA/Electricity-Consumption-AVG.csv')\n",
    "Energy_Eficiency_data = pd.read_csv('DATA/Energy-Eficiency.csv')"
   ]
  },
  {
   "cell_type": "markdown",
   "metadata": {},
   "source": [
    "# Cleaning the Data"
   ]
  },
  {
   "cell_type": "code",
   "execution_count": 654,
   "metadata": {},
   "outputs": [
    {
     "data": {
      "text/html": [
       "<div>\n",
       "<style scoped>\n",
       "    .dataframe tbody tr th:only-of-type {\n",
       "        vertical-align: middle;\n",
       "    }\n",
       "\n",
       "    .dataframe tbody tr th {\n",
       "        vertical-align: top;\n",
       "    }\n",
       "\n",
       "    .dataframe thead th {\n",
       "        text-align: right;\n",
       "    }\n",
       "</style>\n",
       "<table border=\"1\" class=\"dataframe\">\n",
       "  <thead>\n",
       "    <tr style=\"text-align: right;\">\n",
       "      <th></th>\n",
       "      <th>date</th>\n",
       "      <th>cpu_index</th>\n",
       "      <th>old_cpu_index</th>\n",
       "    </tr>\n",
       "  </thead>\n",
       "  <tbody>\n",
       "    <tr>\n",
       "      <th>0</th>\n",
       "      <td>Apr-87</td>\n",
       "      <td>43.589069</td>\n",
       "      <td>NaN</td>\n",
       "    </tr>\n",
       "    <tr>\n",
       "      <th>1</th>\n",
       "      <td>May-87</td>\n",
       "      <td>41.862022</td>\n",
       "      <td>NaN</td>\n",
       "    </tr>\n",
       "    <tr>\n",
       "      <th>2</th>\n",
       "      <td>Jun-87</td>\n",
       "      <td>71.135203</td>\n",
       "      <td>NaN</td>\n",
       "    </tr>\n",
       "    <tr>\n",
       "      <th>3</th>\n",
       "      <td>Jul-87</td>\n",
       "      <td>53.756704</td>\n",
       "      <td>NaN</td>\n",
       "    </tr>\n",
       "    <tr>\n",
       "      <th>4</th>\n",
       "      <td>Aug-87</td>\n",
       "      <td>60.615545</td>\n",
       "      <td>NaN</td>\n",
       "    </tr>\n",
       "  </tbody>\n",
       "</table>\n",
       "</div>"
      ],
      "text/plain": [
       "     date  cpu_index  old_cpu_index\n",
       "0  Apr-87  43.589069            NaN\n",
       "1  May-87  41.862022            NaN\n",
       "2  Jun-87  71.135203            NaN\n",
       "3  Jul-87  53.756704            NaN\n",
       "4  Aug-87  60.615545            NaN"
      ]
     },
     "execution_count": 654,
     "metadata": {},
     "output_type": "execute_result"
    }
   ],
   "source": [
    "cpu_data.head()"
   ]
  },
  {
   "cell_type": "code",
   "execution_count": 655,
   "metadata": {},
   "outputs": [
    {
     "data": {
      "text/html": [
       "<div>\n",
       "<style scoped>\n",
       "    .dataframe tbody tr th:only-of-type {\n",
       "        vertical-align: middle;\n",
       "    }\n",
       "\n",
       "    .dataframe tbody tr th {\n",
       "        vertical-align: top;\n",
       "    }\n",
       "\n",
       "    .dataframe thead th {\n",
       "        text-align: right;\n",
       "    }\n",
       "</style>\n",
       "<table border=\"1\" class=\"dataframe\">\n",
       "  <thead>\n",
       "    <tr style=\"text-align: right;\">\n",
       "      <th></th>\n",
       "      <th>Date</th>\n",
       "      <th>Open</th>\n",
       "      <th>High</th>\n",
       "      <th>Low</th>\n",
       "      <th>Close</th>\n",
       "      <th>Adj Close</th>\n",
       "      <th>Volume</th>\n",
       "    </tr>\n",
       "  </thead>\n",
       "  <tbody>\n",
       "    <tr>\n",
       "      <th>0</th>\n",
       "      <td>2/1/2014</td>\n",
       "      <td>18.570000</td>\n",
       "      <td>21.480000</td>\n",
       "      <td>13.44</td>\n",
       "      <td>14.00</td>\n",
       "      <td>14.00</td>\n",
       "      <td>0.0</td>\n",
       "    </tr>\n",
       "    <tr>\n",
       "      <th>1</th>\n",
       "      <td>3/1/2014</td>\n",
       "      <td>16.469999</td>\n",
       "      <td>18.219999</td>\n",
       "      <td>13.46</td>\n",
       "      <td>13.88</td>\n",
       "      <td>13.88</td>\n",
       "      <td>0.0</td>\n",
       "    </tr>\n",
       "    <tr>\n",
       "      <th>2</th>\n",
       "      <td>4/1/2014</td>\n",
       "      <td>13.430000</td>\n",
       "      <td>17.850000</td>\n",
       "      <td>12.60</td>\n",
       "      <td>13.41</td>\n",
       "      <td>13.41</td>\n",
       "      <td>0.0</td>\n",
       "    </tr>\n",
       "    <tr>\n",
       "      <th>3</th>\n",
       "      <td>5/1/2014</td>\n",
       "      <td>13.640000</td>\n",
       "      <td>14.490000</td>\n",
       "      <td>11.32</td>\n",
       "      <td>11.40</td>\n",
       "      <td>11.40</td>\n",
       "      <td>0.0</td>\n",
       "    </tr>\n",
       "    <tr>\n",
       "      <th>4</th>\n",
       "      <td>6/1/2014</td>\n",
       "      <td>11.690000</td>\n",
       "      <td>12.890000</td>\n",
       "      <td>10.34</td>\n",
       "      <td>11.57</td>\n",
       "      <td>11.57</td>\n",
       "      <td>0.0</td>\n",
       "    </tr>\n",
       "  </tbody>\n",
       "</table>\n",
       "</div>"
      ],
      "text/plain": [
       "       Date       Open       High    Low  Close  Adj Close  Volume\n",
       "0  2/1/2014  18.570000  21.480000  13.44  14.00      14.00     0.0\n",
       "1  3/1/2014  16.469999  18.219999  13.46  13.88      13.88     0.0\n",
       "2  4/1/2014  13.430000  17.850000  12.60  13.41      13.41     0.0\n",
       "3  5/1/2014  13.640000  14.490000  11.32  11.40      11.40     0.0\n",
       "4  6/1/2014  11.690000  12.890000  10.34  11.57      11.57     0.0"
      ]
     },
     "execution_count": 655,
     "metadata": {},
     "output_type": "execute_result"
    }
   ],
   "source": [
    "\n",
    "vix_data.head()"
   ]
  },
  {
   "cell_type": "code",
   "execution_count": 656,
   "metadata": {},
   "outputs": [
    {
     "data": {
      "text/html": [
       "<div>\n",
       "<style scoped>\n",
       "    .dataframe tbody tr th:only-of-type {\n",
       "        vertical-align: middle;\n",
       "    }\n",
       "\n",
       "    .dataframe tbody tr th {\n",
       "        vertical-align: top;\n",
       "    }\n",
       "\n",
       "    .dataframe thead th {\n",
       "        text-align: right;\n",
       "    }\n",
       "</style>\n",
       "<table border=\"1\" class=\"dataframe\">\n",
       "  <thead>\n",
       "    <tr style=\"text-align: right;\">\n",
       "      <th></th>\n",
       "      <th>Date</th>\n",
       "      <th>Open</th>\n",
       "      <th>High</th>\n",
       "      <th>Low</th>\n",
       "      <th>Close</th>\n",
       "      <th>Adj Close</th>\n",
       "      <th>Volume</th>\n",
       "    </tr>\n",
       "  </thead>\n",
       "  <tbody>\n",
       "    <tr>\n",
       "      <th>0</th>\n",
       "      <td>2014-10-01</td>\n",
       "      <td>387.427002</td>\n",
       "      <td>411.697998</td>\n",
       "      <td>289.295990</td>\n",
       "      <td>338.321014</td>\n",
       "      <td>338.321014</td>\n",
       "      <td>902994450</td>\n",
       "    </tr>\n",
       "    <tr>\n",
       "      <th>1</th>\n",
       "      <td>2014-11-01</td>\n",
       "      <td>338.649994</td>\n",
       "      <td>457.092987</td>\n",
       "      <td>320.626007</td>\n",
       "      <td>378.046997</td>\n",
       "      <td>378.046997</td>\n",
       "      <td>659733360</td>\n",
       "    </tr>\n",
       "    <tr>\n",
       "      <th>2</th>\n",
       "      <td>2014-12-01</td>\n",
       "      <td>378.248993</td>\n",
       "      <td>384.037994</td>\n",
       "      <td>304.231995</td>\n",
       "      <td>320.192993</td>\n",
       "      <td>320.192993</td>\n",
       "      <td>553102310</td>\n",
       "    </tr>\n",
       "    <tr>\n",
       "      <th>3</th>\n",
       "      <td>2015-01-01</td>\n",
       "      <td>320.434998</td>\n",
       "      <td>320.434998</td>\n",
       "      <td>171.509995</td>\n",
       "      <td>217.464005</td>\n",
       "      <td>217.464005</td>\n",
       "      <td>1098811912</td>\n",
       "    </tr>\n",
       "    <tr>\n",
       "      <th>4</th>\n",
       "      <td>2015-02-01</td>\n",
       "      <td>216.867004</td>\n",
       "      <td>265.610992</td>\n",
       "      <td>212.014999</td>\n",
       "      <td>254.263000</td>\n",
       "      <td>254.263000</td>\n",
       "      <td>711518700</td>\n",
       "    </tr>\n",
       "  </tbody>\n",
       "</table>\n",
       "</div>"
      ],
      "text/plain": [
       "         Date        Open        High         Low       Close   Adj Close  \\\n",
       "0  2014-10-01  387.427002  411.697998  289.295990  338.321014  338.321014   \n",
       "1  2014-11-01  338.649994  457.092987  320.626007  378.046997  378.046997   \n",
       "2  2014-12-01  378.248993  384.037994  304.231995  320.192993  320.192993   \n",
       "3  2015-01-01  320.434998  320.434998  171.509995  217.464005  217.464005   \n",
       "4  2015-02-01  216.867004  265.610992  212.014999  254.263000  254.263000   \n",
       "\n",
       "       Volume  \n",
       "0   902994450  \n",
       "1   659733360  \n",
       "2   553102310  \n",
       "3  1098811912  \n",
       "4   711518700  "
      ]
     },
     "execution_count": 656,
     "metadata": {},
     "output_type": "execute_result"
    }
   ],
   "source": [
    "BTC_data.head()"
   ]
  },
  {
   "cell_type": "code",
   "execution_count": 657,
   "metadata": {},
   "outputs": [
    {
     "data": {
      "text/html": [
       "<div>\n",
       "<style scoped>\n",
       "    .dataframe tbody tr th:only-of-type {\n",
       "        vertical-align: middle;\n",
       "    }\n",
       "\n",
       "    .dataframe tbody tr th {\n",
       "        vertical-align: top;\n",
       "    }\n",
       "\n",
       "    .dataframe thead th {\n",
       "        text-align: right;\n",
       "    }\n",
       "</style>\n",
       "<table border=\"1\" class=\"dataframe\">\n",
       "  <thead>\n",
       "    <tr style=\"text-align: right;\">\n",
       "      <th></th>\n",
       "      <th>Date and Time</th>\n",
       "      <th>Emission intensity, gCO2e/kWh</th>\n",
       "    </tr>\n",
       "  </thead>\n",
       "  <tbody>\n",
       "    <tr>\n",
       "      <th>0</th>\n",
       "      <td>2010-07-17T21:00:00</td>\n",
       "      <td>554.121479</td>\n",
       "    </tr>\n",
       "    <tr>\n",
       "      <th>1</th>\n",
       "      <td>2010-07-18T21:00:00</td>\n",
       "      <td>554.121479</td>\n",
       "    </tr>\n",
       "    <tr>\n",
       "      <th>2</th>\n",
       "      <td>2010-07-19T21:00:00</td>\n",
       "      <td>554.121479</td>\n",
       "    </tr>\n",
       "    <tr>\n",
       "      <th>3</th>\n",
       "      <td>2010-07-20T21:00:00</td>\n",
       "      <td>554.121479</td>\n",
       "    </tr>\n",
       "    <tr>\n",
       "      <th>4</th>\n",
       "      <td>2010-07-21T21:00:00</td>\n",
       "      <td>554.121479</td>\n",
       "    </tr>\n",
       "  </tbody>\n",
       "</table>\n",
       "</div>"
      ],
      "text/plain": [
       "         Date and Time  Emission intensity, gCO2e/kWh\n",
       "0  2010-07-17T21:00:00                     554.121479\n",
       "1  2010-07-18T21:00:00                     554.121479\n",
       "2  2010-07-19T21:00:00                     554.121479\n",
       "3  2010-07-20T21:00:00                     554.121479\n",
       "4  2010-07-21T21:00:00                     554.121479"
      ]
     },
     "execution_count": 657,
     "metadata": {},
     "output_type": "execute_result"
    }
   ],
   "source": [
    "co2_data.head()"
   ]
  },
  {
   "cell_type": "code",
   "execution_count": 658,
   "metadata": {},
   "outputs": [
    {
     "data": {
      "text/html": [
       "<div>\n",
       "<style scoped>\n",
       "    .dataframe tbody tr th:only-of-type {\n",
       "        vertical-align: middle;\n",
       "    }\n",
       "\n",
       "    .dataframe tbody tr th {\n",
       "        vertical-align: top;\n",
       "    }\n",
       "\n",
       "    .dataframe thead th {\n",
       "        text-align: right;\n",
       "    }\n",
       "</style>\n",
       "<table border=\"1\" class=\"dataframe\">\n",
       "  <thead>\n",
       "    <tr style=\"text-align: right;\">\n",
       "      <th></th>\n",
       "      <th>Month</th>\n",
       "      <th>Monthly consumption, TWh</th>\n",
       "      <th>Cumulative consumption, TWh</th>\n",
       "    </tr>\n",
       "  </thead>\n",
       "  <tbody>\n",
       "    <tr>\n",
       "      <th>0</th>\n",
       "      <td>Jul-10</td>\n",
       "      <td>0.0000</td>\n",
       "      <td>0.0000</td>\n",
       "    </tr>\n",
       "    <tr>\n",
       "      <th>1</th>\n",
       "      <td>Aug-10</td>\n",
       "      <td>0.0000</td>\n",
       "      <td>0.0001</td>\n",
       "    </tr>\n",
       "    <tr>\n",
       "      <th>2</th>\n",
       "      <td>Sep-10</td>\n",
       "      <td>0.0001</td>\n",
       "      <td>0.0001</td>\n",
       "    </tr>\n",
       "    <tr>\n",
       "      <th>3</th>\n",
       "      <td>Oct-10</td>\n",
       "      <td>0.0002</td>\n",
       "      <td>0.0003</td>\n",
       "    </tr>\n",
       "    <tr>\n",
       "      <th>4</th>\n",
       "      <td>Nov-10</td>\n",
       "      <td>0.0003</td>\n",
       "      <td>0.0006</td>\n",
       "    </tr>\n",
       "  </tbody>\n",
       "</table>\n",
       "</div>"
      ],
      "text/plain": [
       "    Month  Monthly consumption, TWh  Cumulative consumption, TWh\n",
       "0  Jul-10                    0.0000                       0.0000\n",
       "1  Aug-10                    0.0000                       0.0001\n",
       "2  Sep-10                    0.0001                       0.0001\n",
       "3  Oct-10                    0.0002                       0.0003\n",
       "4  Nov-10                    0.0003                       0.0006"
      ]
     },
     "execution_count": 658,
     "metadata": {},
     "output_type": "execute_result"
    }
   ],
   "source": [
    "electricity_consumption_data.head()"
   ]
  },
  {
   "cell_type": "code",
   "execution_count": 6,
   "metadata": {},
   "outputs": [
    {
     "data": {
      "text/html": [
       "<div>\n",
       "<style scoped>\n",
       "    .dataframe tbody tr th:only-of-type {\n",
       "        vertical-align: middle;\n",
       "    }\n",
       "\n",
       "    .dataframe tbody tr th {\n",
       "        vertical-align: top;\n",
       "    }\n",
       "\n",
       "    .dataframe thead th {\n",
       "        text-align: right;\n",
       "    }\n",
       "</style>\n",
       "<table border=\"1\" class=\"dataframe\">\n",
       "  <thead>\n",
       "    <tr style=\"text-align: right;\">\n",
       "      <th></th>\n",
       "      <th>Date</th>\n",
       "      <th>Lower bound efficiency, J/Th</th>\n",
       "      <th>Estimated efficiency, J/Th</th>\n",
       "      <th>Upper bound efficiency, J/Th</th>\n",
       "    </tr>\n",
       "  </thead>\n",
       "  <tbody>\n",
       "    <tr>\n",
       "      <th>0</th>\n",
       "      <td>2010-07-18</td>\n",
       "      <td>14313700.0</td>\n",
       "      <td>14313700.0</td>\n",
       "      <td>14313700.0</td>\n",
       "    </tr>\n",
       "    <tr>\n",
       "      <th>1</th>\n",
       "      <td>2010-07-19</td>\n",
       "      <td>14313700.0</td>\n",
       "      <td>14313700.0</td>\n",
       "      <td>14313700.0</td>\n",
       "    </tr>\n",
       "    <tr>\n",
       "      <th>2</th>\n",
       "      <td>2010-07-20</td>\n",
       "      <td>14313700.0</td>\n",
       "      <td>14313700.0</td>\n",
       "      <td>14313700.0</td>\n",
       "    </tr>\n",
       "    <tr>\n",
       "      <th>3</th>\n",
       "      <td>2010-07-21</td>\n",
       "      <td>14313700.0</td>\n",
       "      <td>14313700.0</td>\n",
       "      <td>14313700.0</td>\n",
       "    </tr>\n",
       "    <tr>\n",
       "      <th>4</th>\n",
       "      <td>2010-07-22</td>\n",
       "      <td>14313700.0</td>\n",
       "      <td>14313700.0</td>\n",
       "      <td>14313700.0</td>\n",
       "    </tr>\n",
       "  </tbody>\n",
       "</table>\n",
       "</div>"
      ],
      "text/plain": [
       "         Date  Lower bound efficiency, J/Th  Estimated efficiency, J/Th  \\\n",
       "0  2010-07-18                    14313700.0                  14313700.0   \n",
       "1  2010-07-19                    14313700.0                  14313700.0   \n",
       "2  2010-07-20                    14313700.0                  14313700.0   \n",
       "3  2010-07-21                    14313700.0                  14313700.0   \n",
       "4  2010-07-22                    14313700.0                  14313700.0   \n",
       "\n",
       "   Upper bound efficiency, J/Th  \n",
       "0                    14313700.0  \n",
       "1                    14313700.0  \n",
       "2                    14313700.0  \n",
       "3                    14313700.0  \n",
       "4                    14313700.0  "
      ]
     },
     "execution_count": 6,
     "metadata": {},
     "output_type": "execute_result"
    }
   ],
   "source": [
    "Energy_Eficiency_data.head()"
   ]
  },
  {
   "cell_type": "markdown",
   "metadata": {},
   "source": [
    "Droping unwanted columns from datasets"
   ]
  },
  {
   "cell_type": "code",
   "execution_count": 7,
   "metadata": {},
   "outputs": [],
   "source": [
    "BTC_data.drop(['Open', 'High', 'Low', 'Adj Close', 'Volume'], axis=1, inplace=True)\n",
    "cpu_data.drop('old_cpu_index', axis=1, inplace=True)\n",
    "vix_data.drop(['Open', 'High', 'Low', 'Adj Close', 'Volume'], axis=1, inplace=True)\n",
    "Energy_Eficiency_data.drop(['Lower bound efficiency, J/Th','Upper bound efficiency, J/Th'],axis=1,inplace=True)"
   ]
  },
  {
   "cell_type": "markdown",
   "metadata": {},
   "source": [
    "Checking for null values"
   ]
  },
  {
   "cell_type": "code",
   "execution_count": 8,
   "metadata": {},
   "outputs": [
    {
     "name": "stdout",
     "output_type": "stream",
     "text": [
      "CPU DATA : date         0\n",
      "cpu_index    0\n",
      "dtype: int64\n",
      "VIX DATA : Date     0\n",
      "Close    6\n",
      "dtype: int64\n",
      "BTC DATA : Date     0\n",
      "Close    0\n",
      "dtype: int64\n",
      "CO2 DATA : Date and Time                    0\n",
      "Emission intensity, gCO2e/kWh    0\n",
      "dtype: int64\n",
      "ELECTRICITY DATA : Month                          0\n",
      "Monthly consumption, TWh       0\n",
      "Cumulative consumption, TWh    0\n",
      "dtype: int64\n",
      "Eficiency Data : Date                          0\n",
      "Estimated efficiency, J/Th    0\n",
      "dtype: int64\n"
     ]
    }
   ],
   "source": [
    "print('CPU DATA :',cpu_data.isnull().sum())\n",
    "print('VIX DATA :',vix_data.isnull().sum())\n",
    "print('BTC DATA :',BTC_data.isnull().sum())\n",
    "print('CO2 DATA :',co2_data.isnull().sum())\n",
    "print('ELECTRICITY DATA :',electricity_consumption_data.isnull().sum())\n",
    "print('Eficiency Data :',Energy_Eficiency_data.isnull().sum())"
   ]
  },
  {
   "cell_type": "markdown",
   "metadata": {},
   "source": [
    "Droping null values from vix_data"
   ]
  },
  {
   "cell_type": "code",
   "execution_count": 9,
   "metadata": {},
   "outputs": [],
   "source": [
    "vix_data.dropna(inplace=True)\n"
   ]
  },
  {
   "cell_type": "code",
   "execution_count": 10,
   "metadata": {},
   "outputs": [
    {
     "data": {
      "text/plain": [
       "Date     0\n",
       "Close    0\n",
       "dtype: int64"
      ]
     },
     "execution_count": 10,
     "metadata": {},
     "output_type": "execute_result"
    }
   ],
   "source": [
    "vix_data.isnull().sum()"
   ]
  },
  {
   "cell_type": "markdown",
   "metadata": {},
   "source": [
    "Setting the name for the date column to \"Date\"  for each dataset. "
   ]
  },
  {
   "cell_type": "code",
   "execution_count": 11,
   "metadata": {},
   "outputs": [],
   "source": [
    "cpu_data.rename(columns={'date': 'Date'}, inplace=True)\n",
    "co2_data.rename(columns={'Date and Time': 'Date'}, inplace=True)\n",
    "electricity_consumption_data.rename(columns={'Month': 'Date'}, inplace=True)"
   ]
  },
  {
   "cell_type": "markdown",
   "metadata": {},
   "source": [
    "# Converting date colums to datetime format."
   ]
  },
  {
   "cell_type": "markdown",
   "metadata": {},
   "source": [
    "The format of date in CPU index is not correct so we cannot convert CPU index date to datetime directly so we have to remove rows from the start till 329 row."
   ]
  },
  {
   "cell_type": "markdown",
   "metadata": {},
   "source": [
    "This will also help us in merging so let's select only data from 330 to 433.\n",
    "Which start from OCT-14 to MAY-23."
   ]
  },
  {
   "cell_type": "code",
   "execution_count": 12,
   "metadata": {},
   "outputs": [],
   "source": [
    "cpu_selected_data = cpu_data.loc[330:433]"
   ]
  },
  {
   "cell_type": "code",
   "execution_count": 13,
   "metadata": {},
   "outputs": [
    {
     "data": {
      "text/html": [
       "<div>\n",
       "<style scoped>\n",
       "    .dataframe tbody tr th:only-of-type {\n",
       "        vertical-align: middle;\n",
       "    }\n",
       "\n",
       "    .dataframe tbody tr th {\n",
       "        vertical-align: top;\n",
       "    }\n",
       "\n",
       "    .dataframe thead th {\n",
       "        text-align: right;\n",
       "    }\n",
       "</style>\n",
       "<table border=\"1\" class=\"dataframe\">\n",
       "  <thead>\n",
       "    <tr style=\"text-align: right;\">\n",
       "      <th></th>\n",
       "      <th>Date</th>\n",
       "      <th>cpu_index</th>\n",
       "    </tr>\n",
       "  </thead>\n",
       "  <tbody>\n",
       "    <tr>\n",
       "      <th>330</th>\n",
       "      <td>14-Oct</td>\n",
       "      <td>54.672738</td>\n",
       "    </tr>\n",
       "  </tbody>\n",
       "</table>\n",
       "</div>"
      ],
      "text/plain": [
       "       Date  cpu_index\n",
       "330  14-Oct  54.672738"
      ]
     },
     "execution_count": 13,
     "metadata": {},
     "output_type": "execute_result"
    }
   ],
   "source": [
    "cpu_selected_data.head(1)"
   ]
  },
  {
   "cell_type": "code",
   "execution_count": 14,
   "metadata": {},
   "outputs": [
    {
     "data": {
      "text/html": [
       "<div>\n",
       "<style scoped>\n",
       "    .dataframe tbody tr th:only-of-type {\n",
       "        vertical-align: middle;\n",
       "    }\n",
       "\n",
       "    .dataframe tbody tr th {\n",
       "        vertical-align: top;\n",
       "    }\n",
       "\n",
       "    .dataframe thead th {\n",
       "        text-align: right;\n",
       "    }\n",
       "</style>\n",
       "<table border=\"1\" class=\"dataframe\">\n",
       "  <thead>\n",
       "    <tr style=\"text-align: right;\">\n",
       "      <th></th>\n",
       "      <th>Date</th>\n",
       "      <th>cpu_index</th>\n",
       "    </tr>\n",
       "  </thead>\n",
       "  <tbody>\n",
       "    <tr>\n",
       "      <th>433</th>\n",
       "      <td>23-May</td>\n",
       "      <td>227.940545</td>\n",
       "    </tr>\n",
       "  </tbody>\n",
       "</table>\n",
       "</div>"
      ],
      "text/plain": [
       "       Date   cpu_index\n",
       "433  23-May  227.940545"
      ]
     },
     "execution_count": 14,
     "metadata": {},
     "output_type": "execute_result"
    }
   ],
   "source": [
    "cpu_selected_data.tail(1)"
   ]
  },
  {
   "cell_type": "markdown",
   "metadata": {},
   "source": [
    "Converting date from 'cpu_selected_data' to datetime."
   ]
  },
  {
   "cell_type": "code",
   "execution_count": 15,
   "metadata": {},
   "outputs": [
    {
     "name": "stderr",
     "output_type": "stream",
     "text": [
      "C:\\Users\\Idris Khan\\AppData\\Local\\Temp\\ipykernel_8368\\1873947492.py:1: SettingWithCopyWarning: \n",
      "A value is trying to be set on a copy of a slice from a DataFrame.\n",
      "Try using .loc[row_indexer,col_indexer] = value instead\n",
      "\n",
      "See the caveats in the documentation: https://pandas.pydata.org/pandas-docs/stable/user_guide/indexing.html#returning-a-view-versus-a-copy\n",
      "  cpu_selected_data['Date'] = pd.to_datetime(cpu_selected_data['Date'], format='%y-%b')\n"
     ]
    }
   ],
   "source": [
    "cpu_selected_data['Date'] = pd.to_datetime(cpu_selected_data['Date'], format='%y-%b')"
   ]
  },
  {
   "cell_type": "markdown",
   "metadata": {},
   "source": [
    "Setting Date as an index for all the datasets."
   ]
  },
  {
   "cell_type": "code",
   "execution_count": 16,
   "metadata": {},
   "outputs": [],
   "source": [
    "vix_data.set_index('Date', inplace=True)\n",
    "BTC_data.set_index('Date', inplace=True)\n",
    "cpu_selected_data.set_index('Date',inplace=True)\n",
    "electricity_consumption_data.set_index('Date',inplace=True)\n",
    "co2_data.set_index('Date', inplace=True)\n",
    "Energy_Eficiency_data.set_index('Date',inplace=True)"
   ]
  },
  {
   "cell_type": "code",
   "execution_count": 17,
   "metadata": {},
   "outputs": [],
   "source": [
    "vix_data.index = pd.to_datetime(vix_data.index)\n",
    "BTC_data.index = pd.to_datetime(BTC_data.index)\n",
    "electricity_consumption_data.index = pd.to_datetime(electricity_consumption_data.index,format='%b-%y')"
   ]
  },
  {
   "cell_type": "markdown",
   "metadata": {},
   "source": [
    "Grouping data by month, calculating the mean for each month, and set the 1st date of each month as the index in CO2."
   ]
  },
  {
   "cell_type": "code",
   "execution_count": 18,
   "metadata": {},
   "outputs": [],
   "source": [
    "Energy_Eficiency_data.index = pd.to_datetime(Energy_Eficiency_data.index)\n",
    "\n",
    "Energy_Eficiency_selected_monthly_mean = Energy_Eficiency_data.resample('M').mean()\n",
    "Energy_Eficiency_selected_monthly_mean.index = Energy_Eficiency_selected_monthly_mean.index.to_period('M').to_timestamp()"
   ]
  },
  {
   "cell_type": "code",
   "execution_count": 19,
   "metadata": {},
   "outputs": [],
   "source": [
    "co2_data.index = pd.to_datetime(co2_data.index)\n",
    "\n",
    "co2_data_selected_monthly_mean = co2_data.resample('M').mean()\n",
    "co2_data_selected_monthly_mean.index = co2_data_selected_monthly_mean.index.to_period('M').to_timestamp()"
   ]
  },
  {
   "cell_type": "markdown",
   "metadata": {},
   "source": [
    "Let's also do some cleaning with other datasets and remove rows so that all datasets align with each other. This will help ensure that the datasets cover the same time period, making the analysis more consistent and meaningful."
   ]
  },
  {
   "cell_type": "markdown",
   "metadata": {},
   "source": [
    "BTC dataset start from '2014-10-01' and end on '2023-10-1' so we will select from the start till the '2023-05-01'"
   ]
  },
  {
   "cell_type": "code",
   "execution_count": 20,
   "metadata": {},
   "outputs": [],
   "source": [
    "BTC_data_selected = BTC_data.loc[:'2023-05-01']"
   ]
  },
  {
   "cell_type": "markdown",
   "metadata": {},
   "source": [
    "VIX dataset start from '2014-02-01' and end on '2023-05-01' so we will select data from '2014-10-01' till the end"
   ]
  },
  {
   "cell_type": "code",
   "execution_count": 21,
   "metadata": {},
   "outputs": [],
   "source": [
    "vix_data_selected = vix_data.loc['2014-10-01':]"
   ]
  },
  {
   "cell_type": "markdown",
   "metadata": {},
   "source": [
    "CO2, Energy_Eficiency and Electricity datasets are large so we just have to select from [2014-10-01] to [2023-05-01]"
   ]
  },
  {
   "cell_type": "code",
   "execution_count": 22,
   "metadata": {},
   "outputs": [],
   "source": [
    "co2_data_selected = co2_data_selected_monthly_mean.loc['2014-10-01':'2023-05-01']\n",
    "electricity_data_selected = electricity_consumption_data.loc['2014-10-01':'2023-05-01']\n",
    "Eficiency_data_selected = Energy_Eficiency_selected_monthly_mean.loc['2014-10-01':'2023-05-01']"
   ]
  },
  {
   "cell_type": "code",
   "execution_count": 23,
   "metadata": {},
   "outputs": [
    {
     "name": "stdout",
     "output_type": "stream",
     "text": [
      "vix_data_selected shape is (104, 1)\n",
      "BTC_data_selected shape is (104, 1)\n",
      "cpu_data_selected shape is (104, 1)\n",
      "co2_data_selected shape is (104, 1)\n",
      "electricity_data_selected shape is (104, 2)\n",
      "Eficiency_data_selected shape is  (104, 1)\n"
     ]
    }
   ],
   "source": [
    "print('vix_data_selected shape is', vix_data_selected.shape)\n",
    "print('BTC_data_selected shape is', BTC_data_selected.shape)\n",
    "print('cpu_data_selected shape is', cpu_selected_data.shape)\n",
    "print('co2_data_selected shape is', co2_data_selected.shape)\n",
    "print('electricity_data_selected shape is', electricity_data_selected.shape)\n",
    "print('Eficiency_data_selected shape is ',Eficiency_data_selected.shape)"
   ]
  },
  {
   "cell_type": "code",
   "execution_count": 25,
   "metadata": {},
   "outputs": [
    {
     "name": "stdout",
     "output_type": "stream",
     "text": [
      "Duplicates in CO2 : 63\n",
      "Duplicates in Energy_Eficiency : 13\n"
     ]
    }
   ],
   "source": [
    "print('Duplicates in CO2 :',co2_data_selected.duplicated().sum())\n",
    "print('Duplicates in Energy_Eficiency :',Eficiency_data_selected.duplicated().sum())"
   ]
  },
  {
   "cell_type": "markdown",
   "metadata": {},
   "source": [
    "So as we can see CO2 and Energy_Eficiency data also have duplicates but we cannot drop them because if we do we will lose more data."
   ]
  },
  {
   "cell_type": "markdown",
   "metadata": {},
   "source": [
    "# The data is ready now let's merge them"
   ]
  },
  {
   "cell_type": "code",
   "execution_count": 30,
   "metadata": {},
   "outputs": [],
   "source": [
    "merged_data = vix_data_selected.merge(BTC_data_selected, how='inner', left_index=True, right_index=True)\n",
    "merged_data = merged_data.merge(cpu_selected_data, how='inner', left_index=True, right_index=True)\n",
    "merged_data = merged_data.merge(co2_data_selected, how='inner', left_index=True, right_index=True)\n",
    "merged_data = merged_data.merge(electricity_data_selected, how='inner', left_index=True, right_index=True)\n",
    "merged_data = merged_data.merge(Eficiency_data_selected, how='inner', left_index=True, right_index=True)\n"
   ]
  },
  {
   "cell_type": "code",
   "execution_count": 33,
   "metadata": {},
   "outputs": [
    {
     "data": {
      "text/plain": [
       "Index(['Close_x', 'Close_y', 'cpu_index', 'Emission intensity, gCO2e/kWh',\n",
       "       'Monthly consumption, TWh', 'Cumulative consumption, TWh',\n",
       "       'Estimated efficiency, J/Th'],\n",
       "      dtype='object')"
      ]
     },
     "execution_count": 33,
     "metadata": {},
     "output_type": "execute_result"
    }
   ],
   "source": [
    "merged_data.columns"
   ]
  },
  {
   "cell_type": "code",
   "execution_count": 34,
   "metadata": {},
   "outputs": [],
   "source": [
    "merged_data.rename(columns={'Close_x': 'VIX_Close', 'Close_y': 'BTC_Close'}, inplace=True)"
   ]
  },
  {
   "cell_type": "code",
   "execution_count": 35,
   "metadata": {},
   "outputs": [
    {
     "data": {
      "text/plain": [
       "Index(['VIX_Close', 'BTC_Close', 'cpu_index', 'Emission intensity, gCO2e/kWh',\n",
       "       'Monthly consumption, TWh', 'Cumulative consumption, TWh',\n",
       "       'Estimated efficiency, J/Th'],\n",
       "      dtype='object')"
      ]
     },
     "execution_count": 35,
     "metadata": {},
     "output_type": "execute_result"
    }
   ],
   "source": [
    "merged_data.columns"
   ]
  },
  {
   "cell_type": "code",
   "execution_count": 36,
   "metadata": {},
   "outputs": [
    {
     "data": {
      "text/html": [
       "<div>\n",
       "<style scoped>\n",
       "    .dataframe tbody tr th:only-of-type {\n",
       "        vertical-align: middle;\n",
       "    }\n",
       "\n",
       "    .dataframe tbody tr th {\n",
       "        vertical-align: top;\n",
       "    }\n",
       "\n",
       "    .dataframe thead th {\n",
       "        text-align: right;\n",
       "    }\n",
       "</style>\n",
       "<table border=\"1\" class=\"dataframe\">\n",
       "  <thead>\n",
       "    <tr style=\"text-align: right;\">\n",
       "      <th></th>\n",
       "      <th>VIX_Close</th>\n",
       "      <th>BTC_Close</th>\n",
       "      <th>cpu_index</th>\n",
       "      <th>Emission intensity, gCO2e/kWh</th>\n",
       "      <th>Monthly consumption, TWh</th>\n",
       "      <th>Cumulative consumption, TWh</th>\n",
       "      <th>Estimated efficiency, J/Th</th>\n",
       "    </tr>\n",
       "    <tr>\n",
       "      <th>Date</th>\n",
       "      <th></th>\n",
       "      <th></th>\n",
       "      <th></th>\n",
       "      <th></th>\n",
       "      <th></th>\n",
       "      <th></th>\n",
       "      <th></th>\n",
       "    </tr>\n",
       "  </thead>\n",
       "  <tbody>\n",
       "    <tr>\n",
       "      <th>2023-01-01</th>\n",
       "      <td>19.400000</td>\n",
       "      <td>23139.283203</td>\n",
       "      <td>213.566019</td>\n",
       "      <td>506.711362</td>\n",
       "      <td>7.8534</td>\n",
       "      <td>385.7785</td>\n",
       "      <td>35.376200</td>\n",
       "    </tr>\n",
       "    <tr>\n",
       "      <th>2023-02-01</th>\n",
       "      <td>20.700001</td>\n",
       "      <td>23147.353516</td>\n",
       "      <td>242.056410</td>\n",
       "      <td>506.711362</td>\n",
       "      <td>7.7767</td>\n",
       "      <td>393.5551</td>\n",
       "      <td>35.639889</td>\n",
       "    </tr>\n",
       "    <tr>\n",
       "      <th>2023-03-01</th>\n",
       "      <td>18.700001</td>\n",
       "      <td>28478.484375</td>\n",
       "      <td>287.529526</td>\n",
       "      <td>506.711362</td>\n",
       "      <td>9.3296</td>\n",
       "      <td>402.8848</td>\n",
       "      <td>34.811142</td>\n",
       "    </tr>\n",
       "    <tr>\n",
       "      <th>2023-04-01</th>\n",
       "      <td>15.780000</td>\n",
       "      <td>29268.806641</td>\n",
       "      <td>226.201916</td>\n",
       "      <td>506.711362</td>\n",
       "      <td>9.6735</td>\n",
       "      <td>412.5582</td>\n",
       "      <td>35.582580</td>\n",
       "    </tr>\n",
       "    <tr>\n",
       "      <th>2023-05-01</th>\n",
       "      <td>17.950001</td>\n",
       "      <td>27219.658203</td>\n",
       "      <td>227.940545</td>\n",
       "      <td>506.711362</td>\n",
       "      <td>10.4547</td>\n",
       "      <td>423.0130</td>\n",
       "      <td>35.736061</td>\n",
       "    </tr>\n",
       "  </tbody>\n",
       "</table>\n",
       "</div>"
      ],
      "text/plain": [
       "            VIX_Close     BTC_Close   cpu_index  \\\n",
       "Date                                              \n",
       "2023-01-01  19.400000  23139.283203  213.566019   \n",
       "2023-02-01  20.700001  23147.353516  242.056410   \n",
       "2023-03-01  18.700001  28478.484375  287.529526   \n",
       "2023-04-01  15.780000  29268.806641  226.201916   \n",
       "2023-05-01  17.950001  27219.658203  227.940545   \n",
       "\n",
       "            Emission intensity, gCO2e/kWh  Monthly consumption, TWh  \\\n",
       "Date                                                                  \n",
       "2023-01-01                     506.711362                    7.8534   \n",
       "2023-02-01                     506.711362                    7.7767   \n",
       "2023-03-01                     506.711362                    9.3296   \n",
       "2023-04-01                     506.711362                    9.6735   \n",
       "2023-05-01                     506.711362                   10.4547   \n",
       "\n",
       "            Cumulative consumption, TWh  Estimated efficiency, J/Th  \n",
       "Date                                                                 \n",
       "2023-01-01                     385.7785                   35.376200  \n",
       "2023-02-01                     393.5551                   35.639889  \n",
       "2023-03-01                     402.8848                   34.811142  \n",
       "2023-04-01                     412.5582                   35.582580  \n",
       "2023-05-01                     423.0130                   35.736061  "
      ]
     },
     "execution_count": 36,
     "metadata": {},
     "output_type": "execute_result"
    }
   ],
   "source": [
    "merged_data.tail()"
   ]
  },
  {
   "cell_type": "code",
   "execution_count": 37,
   "metadata": {},
   "outputs": [],
   "source": [
    "merged_data.to_csv('DATA/MERGED_DATA.csv')"
   ]
  },
  {
   "cell_type": "code",
   "execution_count": 38,
   "metadata": {},
   "outputs": [
    {
     "data": {
      "text/html": [
       "<div>\n",
       "<style scoped>\n",
       "    .dataframe tbody tr th:only-of-type {\n",
       "        vertical-align: middle;\n",
       "    }\n",
       "\n",
       "    .dataframe tbody tr th {\n",
       "        vertical-align: top;\n",
       "    }\n",
       "\n",
       "    .dataframe thead th {\n",
       "        text-align: right;\n",
       "    }\n",
       "</style>\n",
       "<table border=\"1\" class=\"dataframe\">\n",
       "  <thead>\n",
       "    <tr style=\"text-align: right;\">\n",
       "      <th></th>\n",
       "      <th>VIX_Close</th>\n",
       "      <th>BTC_Close</th>\n",
       "      <th>cpu_index</th>\n",
       "      <th>Emission intensity, gCO2e/kWh</th>\n",
       "      <th>Monthly consumption, TWh</th>\n",
       "      <th>Cumulative consumption, TWh</th>\n",
       "      <th>Estimated efficiency, J/Th</th>\n",
       "    </tr>\n",
       "  </thead>\n",
       "  <tbody>\n",
       "    <tr>\n",
       "      <th>VIX_Close</th>\n",
       "      <td>1.000000</td>\n",
       "      <td>0.294896</td>\n",
       "      <td>0.337834</td>\n",
       "      <td>-0.058487</td>\n",
       "      <td>0.474759</td>\n",
       "      <td>0.450752</td>\n",
       "      <td>-0.242397</td>\n",
       "    </tr>\n",
       "    <tr>\n",
       "      <th>BTC_Close</th>\n",
       "      <td>0.294896</td>\n",
       "      <td>1.000000</td>\n",
       "      <td>0.477942</td>\n",
       "      <td>-0.055251</td>\n",
       "      <td>0.798506</td>\n",
       "      <td>0.754098</td>\n",
       "      <td>-0.480524</td>\n",
       "    </tr>\n",
       "    <tr>\n",
       "      <th>cpu_index</th>\n",
       "      <td>0.337834</td>\n",
       "      <td>0.477942</td>\n",
       "      <td>1.000000</td>\n",
       "      <td>-0.194894</td>\n",
       "      <td>0.595967</td>\n",
       "      <td>0.588597</td>\n",
       "      <td>-0.575344</td>\n",
       "    </tr>\n",
       "    <tr>\n",
       "      <th>Emission intensity, gCO2e/kWh</th>\n",
       "      <td>-0.058487</td>\n",
       "      <td>-0.055251</td>\n",
       "      <td>-0.194894</td>\n",
       "      <td>1.000000</td>\n",
       "      <td>-0.223102</td>\n",
       "      <td>-0.261675</td>\n",
       "      <td>0.313713</td>\n",
       "    </tr>\n",
       "    <tr>\n",
       "      <th>Monthly consumption, TWh</th>\n",
       "      <td>0.474759</td>\n",
       "      <td>0.798506</td>\n",
       "      <td>0.595967</td>\n",
       "      <td>-0.223102</td>\n",
       "      <td>1.000000</td>\n",
       "      <td>0.914569</td>\n",
       "      <td>-0.679590</td>\n",
       "    </tr>\n",
       "    <tr>\n",
       "      <th>Cumulative consumption, TWh</th>\n",
       "      <td>0.450752</td>\n",
       "      <td>0.754098</td>\n",
       "      <td>0.588597</td>\n",
       "      <td>-0.261675</td>\n",
       "      <td>0.914569</td>\n",
       "      <td>1.000000</td>\n",
       "      <td>-0.560783</td>\n",
       "    </tr>\n",
       "    <tr>\n",
       "      <th>Estimated efficiency, J/Th</th>\n",
       "      <td>-0.242397</td>\n",
       "      <td>-0.480524</td>\n",
       "      <td>-0.575344</td>\n",
       "      <td>0.313713</td>\n",
       "      <td>-0.679590</td>\n",
       "      <td>-0.560783</td>\n",
       "      <td>1.000000</td>\n",
       "    </tr>\n",
       "  </tbody>\n",
       "</table>\n",
       "</div>"
      ],
      "text/plain": [
       "                               VIX_Close  BTC_Close  cpu_index  \\\n",
       "VIX_Close                       1.000000   0.294896   0.337834   \n",
       "BTC_Close                       0.294896   1.000000   0.477942   \n",
       "cpu_index                       0.337834   0.477942   1.000000   \n",
       "Emission intensity, gCO2e/kWh  -0.058487  -0.055251  -0.194894   \n",
       "Monthly consumption, TWh        0.474759   0.798506   0.595967   \n",
       "Cumulative consumption, TWh     0.450752   0.754098   0.588597   \n",
       "Estimated efficiency, J/Th     -0.242397  -0.480524  -0.575344   \n",
       "\n",
       "                               Emission intensity, gCO2e/kWh  \\\n",
       "VIX_Close                                          -0.058487   \n",
       "BTC_Close                                          -0.055251   \n",
       "cpu_index                                          -0.194894   \n",
       "Emission intensity, gCO2e/kWh                       1.000000   \n",
       "Monthly consumption, TWh                           -0.223102   \n",
       "Cumulative consumption, TWh                        -0.261675   \n",
       "Estimated efficiency, J/Th                          0.313713   \n",
       "\n",
       "                               Monthly consumption, TWh  \\\n",
       "VIX_Close                                      0.474759   \n",
       "BTC_Close                                      0.798506   \n",
       "cpu_index                                      0.595967   \n",
       "Emission intensity, gCO2e/kWh                 -0.223102   \n",
       "Monthly consumption, TWh                       1.000000   \n",
       "Cumulative consumption, TWh                    0.914569   \n",
       "Estimated efficiency, J/Th                    -0.679590   \n",
       "\n",
       "                               Cumulative consumption, TWh  \\\n",
       "VIX_Close                                         0.450752   \n",
       "BTC_Close                                         0.754098   \n",
       "cpu_index                                         0.588597   \n",
       "Emission intensity, gCO2e/kWh                    -0.261675   \n",
       "Monthly consumption, TWh                          0.914569   \n",
       "Cumulative consumption, TWh                       1.000000   \n",
       "Estimated efficiency, J/Th                       -0.560783   \n",
       "\n",
       "                               Estimated efficiency, J/Th  \n",
       "VIX_Close                                       -0.242397  \n",
       "BTC_Close                                       -0.480524  \n",
       "cpu_index                                       -0.575344  \n",
       "Emission intensity, gCO2e/kWh                    0.313713  \n",
       "Monthly consumption, TWh                        -0.679590  \n",
       "Cumulative consumption, TWh                     -0.560783  \n",
       "Estimated efficiency, J/Th                       1.000000  "
      ]
     },
     "execution_count": 38,
     "metadata": {},
     "output_type": "execute_result"
    }
   ],
   "source": [
    "merged_data.corr()"
   ]
  },
  {
   "cell_type": "code",
   "execution_count": 41,
   "metadata": {},
   "outputs": [],
   "source": [
    "merged_corr = merged_data.corr()"
   ]
  },
  {
   "cell_type": "code",
   "execution_count": 42,
   "metadata": {},
   "outputs": [],
   "source": [
    "merged_corr.to_csv('MERGED_CORR.csv')"
   ]
  },
  {
   "cell_type": "markdown",
   "metadata": {},
   "source": [
    "# The Data has Been Merged"
   ]
  }
 ],
 "metadata": {
  "kernelspec": {
   "display_name": "base",
   "language": "python",
   "name": "python3"
  },
  "language_info": {
   "codemirror_mode": {
    "name": "ipython",
    "version": 3
   },
   "file_extension": ".py",
   "mimetype": "text/x-python",
   "name": "python",
   "nbconvert_exporter": "python",
   "pygments_lexer": "ipython3",
   "version": "3.11.5"
  }
 },
 "nbformat": 4,
 "nbformat_minor": 2
}
