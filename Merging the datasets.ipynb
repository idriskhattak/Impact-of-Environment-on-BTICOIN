{
 "cells": [
  {
   "cell_type": "code",
   "execution_count": 602,
   "metadata": {},
   "outputs": [],
   "source": [
    "import pandas as pd"
   ]
  },
  {
   "cell_type": "markdown",
   "metadata": {},
   "source": [
    "# Loading the Datasets"
   ]
  },
  {
   "cell_type": "code",
   "execution_count": 603,
   "metadata": {},
   "outputs": [],
   "source": [
    "cpu_data = pd.read_csv(\"DATA/CPU index.csv\")\n",
    "vix_data = pd.read_csv(\"DATA/_VIX (1).csv\")\n",
    "BTC_data = pd.read_csv(\"DATA/BTC-USD.csv\")\n",
    "co2_data = pd.read_csv('DATA/CO2-emission.csv')\n",
    "electricity_consumption_data = pd.read_csv('DATA/Electricity-Consumption-AVG.csv')"
   ]
  },
  {
   "cell_type": "markdown",
   "metadata": {},
   "source": [
    "# Cleaning the Data"
   ]
  },
  {
   "cell_type": "code",
   "execution_count": 604,
   "metadata": {},
   "outputs": [
    {
     "data": {
      "text/html": [
       "<div>\n",
       "<style scoped>\n",
       "    .dataframe tbody tr th:only-of-type {\n",
       "        vertical-align: middle;\n",
       "    }\n",
       "\n",
       "    .dataframe tbody tr th {\n",
       "        vertical-align: top;\n",
       "    }\n",
       "\n",
       "    .dataframe thead th {\n",
       "        text-align: right;\n",
       "    }\n",
       "</style>\n",
       "<table border=\"1\" class=\"dataframe\">\n",
       "  <thead>\n",
       "    <tr style=\"text-align: right;\">\n",
       "      <th></th>\n",
       "      <th>date</th>\n",
       "      <th>cpu_index</th>\n",
       "      <th>old_cpu_index</th>\n",
       "    </tr>\n",
       "  </thead>\n",
       "  <tbody>\n",
       "    <tr>\n",
       "      <th>0</th>\n",
       "      <td>Apr-87</td>\n",
       "      <td>43.589069</td>\n",
       "      <td>NaN</td>\n",
       "    </tr>\n",
       "    <tr>\n",
       "      <th>1</th>\n",
       "      <td>May-87</td>\n",
       "      <td>41.862022</td>\n",
       "      <td>NaN</td>\n",
       "    </tr>\n",
       "    <tr>\n",
       "      <th>2</th>\n",
       "      <td>Jun-87</td>\n",
       "      <td>71.135203</td>\n",
       "      <td>NaN</td>\n",
       "    </tr>\n",
       "    <tr>\n",
       "      <th>3</th>\n",
       "      <td>Jul-87</td>\n",
       "      <td>53.756704</td>\n",
       "      <td>NaN</td>\n",
       "    </tr>\n",
       "    <tr>\n",
       "      <th>4</th>\n",
       "      <td>Aug-87</td>\n",
       "      <td>60.615545</td>\n",
       "      <td>NaN</td>\n",
       "    </tr>\n",
       "  </tbody>\n",
       "</table>\n",
       "</div>"
      ],
      "text/plain": [
       "     date  cpu_index  old_cpu_index\n",
       "0  Apr-87  43.589069            NaN\n",
       "1  May-87  41.862022            NaN\n",
       "2  Jun-87  71.135203            NaN\n",
       "3  Jul-87  53.756704            NaN\n",
       "4  Aug-87  60.615545            NaN"
      ]
     },
     "execution_count": 604,
     "metadata": {},
     "output_type": "execute_result"
    }
   ],
   "source": [
    "cpu_data.head()"
   ]
  },
  {
   "cell_type": "code",
   "execution_count": 605,
   "metadata": {},
   "outputs": [
    {
     "data": {
      "text/html": [
       "<div>\n",
       "<style scoped>\n",
       "    .dataframe tbody tr th:only-of-type {\n",
       "        vertical-align: middle;\n",
       "    }\n",
       "\n",
       "    .dataframe tbody tr th {\n",
       "        vertical-align: top;\n",
       "    }\n",
       "\n",
       "    .dataframe thead th {\n",
       "        text-align: right;\n",
       "    }\n",
       "</style>\n",
       "<table border=\"1\" class=\"dataframe\">\n",
       "  <thead>\n",
       "    <tr style=\"text-align: right;\">\n",
       "      <th></th>\n",
       "      <th>Date</th>\n",
       "      <th>Open</th>\n",
       "      <th>High</th>\n",
       "      <th>Low</th>\n",
       "      <th>Close</th>\n",
       "      <th>Adj Close</th>\n",
       "      <th>Volume</th>\n",
       "    </tr>\n",
       "  </thead>\n",
       "  <tbody>\n",
       "    <tr>\n",
       "      <th>0</th>\n",
       "      <td>2/1/2014</td>\n",
       "      <td>18.570000</td>\n",
       "      <td>21.480000</td>\n",
       "      <td>13.44</td>\n",
       "      <td>14.00</td>\n",
       "      <td>14.00</td>\n",
       "      <td>0.0</td>\n",
       "    </tr>\n",
       "    <tr>\n",
       "      <th>1</th>\n",
       "      <td>3/1/2014</td>\n",
       "      <td>16.469999</td>\n",
       "      <td>18.219999</td>\n",
       "      <td>13.46</td>\n",
       "      <td>13.88</td>\n",
       "      <td>13.88</td>\n",
       "      <td>0.0</td>\n",
       "    </tr>\n",
       "    <tr>\n",
       "      <th>2</th>\n",
       "      <td>4/1/2014</td>\n",
       "      <td>13.430000</td>\n",
       "      <td>17.850000</td>\n",
       "      <td>12.60</td>\n",
       "      <td>13.41</td>\n",
       "      <td>13.41</td>\n",
       "      <td>0.0</td>\n",
       "    </tr>\n",
       "    <tr>\n",
       "      <th>3</th>\n",
       "      <td>5/1/2014</td>\n",
       "      <td>13.640000</td>\n",
       "      <td>14.490000</td>\n",
       "      <td>11.32</td>\n",
       "      <td>11.40</td>\n",
       "      <td>11.40</td>\n",
       "      <td>0.0</td>\n",
       "    </tr>\n",
       "    <tr>\n",
       "      <th>4</th>\n",
       "      <td>6/1/2014</td>\n",
       "      <td>11.690000</td>\n",
       "      <td>12.890000</td>\n",
       "      <td>10.34</td>\n",
       "      <td>11.57</td>\n",
       "      <td>11.57</td>\n",
       "      <td>0.0</td>\n",
       "    </tr>\n",
       "  </tbody>\n",
       "</table>\n",
       "</div>"
      ],
      "text/plain": [
       "       Date       Open       High    Low  Close  Adj Close  Volume\n",
       "0  2/1/2014  18.570000  21.480000  13.44  14.00      14.00     0.0\n",
       "1  3/1/2014  16.469999  18.219999  13.46  13.88      13.88     0.0\n",
       "2  4/1/2014  13.430000  17.850000  12.60  13.41      13.41     0.0\n",
       "3  5/1/2014  13.640000  14.490000  11.32  11.40      11.40     0.0\n",
       "4  6/1/2014  11.690000  12.890000  10.34  11.57      11.57     0.0"
      ]
     },
     "execution_count": 605,
     "metadata": {},
     "output_type": "execute_result"
    }
   ],
   "source": [
    "\n",
    "vix_data.head()"
   ]
  },
  {
   "cell_type": "code",
   "execution_count": 606,
   "metadata": {},
   "outputs": [
    {
     "data": {
      "text/html": [
       "<div>\n",
       "<style scoped>\n",
       "    .dataframe tbody tr th:only-of-type {\n",
       "        vertical-align: middle;\n",
       "    }\n",
       "\n",
       "    .dataframe tbody tr th {\n",
       "        vertical-align: top;\n",
       "    }\n",
       "\n",
       "    .dataframe thead th {\n",
       "        text-align: right;\n",
       "    }\n",
       "</style>\n",
       "<table border=\"1\" class=\"dataframe\">\n",
       "  <thead>\n",
       "    <tr style=\"text-align: right;\">\n",
       "      <th></th>\n",
       "      <th>Date</th>\n",
       "      <th>Open</th>\n",
       "      <th>High</th>\n",
       "      <th>Low</th>\n",
       "      <th>Close</th>\n",
       "      <th>Adj Close</th>\n",
       "      <th>Volume</th>\n",
       "    </tr>\n",
       "  </thead>\n",
       "  <tbody>\n",
       "    <tr>\n",
       "      <th>0</th>\n",
       "      <td>2014-10-01</td>\n",
       "      <td>387.427002</td>\n",
       "      <td>411.697998</td>\n",
       "      <td>289.295990</td>\n",
       "      <td>338.321014</td>\n",
       "      <td>338.321014</td>\n",
       "      <td>902994450</td>\n",
       "    </tr>\n",
       "    <tr>\n",
       "      <th>1</th>\n",
       "      <td>2014-11-01</td>\n",
       "      <td>338.649994</td>\n",
       "      <td>457.092987</td>\n",
       "      <td>320.626007</td>\n",
       "      <td>378.046997</td>\n",
       "      <td>378.046997</td>\n",
       "      <td>659733360</td>\n",
       "    </tr>\n",
       "    <tr>\n",
       "      <th>2</th>\n",
       "      <td>2014-12-01</td>\n",
       "      <td>378.248993</td>\n",
       "      <td>384.037994</td>\n",
       "      <td>304.231995</td>\n",
       "      <td>320.192993</td>\n",
       "      <td>320.192993</td>\n",
       "      <td>553102310</td>\n",
       "    </tr>\n",
       "    <tr>\n",
       "      <th>3</th>\n",
       "      <td>2015-01-01</td>\n",
       "      <td>320.434998</td>\n",
       "      <td>320.434998</td>\n",
       "      <td>171.509995</td>\n",
       "      <td>217.464005</td>\n",
       "      <td>217.464005</td>\n",
       "      <td>1098811912</td>\n",
       "    </tr>\n",
       "    <tr>\n",
       "      <th>4</th>\n",
       "      <td>2015-02-01</td>\n",
       "      <td>216.867004</td>\n",
       "      <td>265.610992</td>\n",
       "      <td>212.014999</td>\n",
       "      <td>254.263000</td>\n",
       "      <td>254.263000</td>\n",
       "      <td>711518700</td>\n",
       "    </tr>\n",
       "  </tbody>\n",
       "</table>\n",
       "</div>"
      ],
      "text/plain": [
       "         Date        Open        High         Low       Close   Adj Close  \\\n",
       "0  2014-10-01  387.427002  411.697998  289.295990  338.321014  338.321014   \n",
       "1  2014-11-01  338.649994  457.092987  320.626007  378.046997  378.046997   \n",
       "2  2014-12-01  378.248993  384.037994  304.231995  320.192993  320.192993   \n",
       "3  2015-01-01  320.434998  320.434998  171.509995  217.464005  217.464005   \n",
       "4  2015-02-01  216.867004  265.610992  212.014999  254.263000  254.263000   \n",
       "\n",
       "       Volume  \n",
       "0   902994450  \n",
       "1   659733360  \n",
       "2   553102310  \n",
       "3  1098811912  \n",
       "4   711518700  "
      ]
     },
     "execution_count": 606,
     "metadata": {},
     "output_type": "execute_result"
    }
   ],
   "source": [
    "BTC_data.head()"
   ]
  },
  {
   "cell_type": "code",
   "execution_count": 607,
   "metadata": {},
   "outputs": [
    {
     "data": {
      "text/html": [
       "<div>\n",
       "<style scoped>\n",
       "    .dataframe tbody tr th:only-of-type {\n",
       "        vertical-align: middle;\n",
       "    }\n",
       "\n",
       "    .dataframe tbody tr th {\n",
       "        vertical-align: top;\n",
       "    }\n",
       "\n",
       "    .dataframe thead th {\n",
       "        text-align: right;\n",
       "    }\n",
       "</style>\n",
       "<table border=\"1\" class=\"dataframe\">\n",
       "  <thead>\n",
       "    <tr style=\"text-align: right;\">\n",
       "      <th></th>\n",
       "      <th>Date and Time</th>\n",
       "      <th>Emission intensity, gCO2e/kWh</th>\n",
       "    </tr>\n",
       "  </thead>\n",
       "  <tbody>\n",
       "    <tr>\n",
       "      <th>0</th>\n",
       "      <td>2010-07-17T21:00:00</td>\n",
       "      <td>554.121479</td>\n",
       "    </tr>\n",
       "    <tr>\n",
       "      <th>1</th>\n",
       "      <td>2010-07-18T21:00:00</td>\n",
       "      <td>554.121479</td>\n",
       "    </tr>\n",
       "    <tr>\n",
       "      <th>2</th>\n",
       "      <td>2010-07-19T21:00:00</td>\n",
       "      <td>554.121479</td>\n",
       "    </tr>\n",
       "    <tr>\n",
       "      <th>3</th>\n",
       "      <td>2010-07-20T21:00:00</td>\n",
       "      <td>554.121479</td>\n",
       "    </tr>\n",
       "    <tr>\n",
       "      <th>4</th>\n",
       "      <td>2010-07-21T21:00:00</td>\n",
       "      <td>554.121479</td>\n",
       "    </tr>\n",
       "  </tbody>\n",
       "</table>\n",
       "</div>"
      ],
      "text/plain": [
       "         Date and Time  Emission intensity, gCO2e/kWh\n",
       "0  2010-07-17T21:00:00                     554.121479\n",
       "1  2010-07-18T21:00:00                     554.121479\n",
       "2  2010-07-19T21:00:00                     554.121479\n",
       "3  2010-07-20T21:00:00                     554.121479\n",
       "4  2010-07-21T21:00:00                     554.121479"
      ]
     },
     "execution_count": 607,
     "metadata": {},
     "output_type": "execute_result"
    }
   ],
   "source": [
    "co2_data.head()"
   ]
  },
  {
   "cell_type": "code",
   "execution_count": 608,
   "metadata": {},
   "outputs": [
    {
     "data": {
      "text/html": [
       "<div>\n",
       "<style scoped>\n",
       "    .dataframe tbody tr th:only-of-type {\n",
       "        vertical-align: middle;\n",
       "    }\n",
       "\n",
       "    .dataframe tbody tr th {\n",
       "        vertical-align: top;\n",
       "    }\n",
       "\n",
       "    .dataframe thead th {\n",
       "        text-align: right;\n",
       "    }\n",
       "</style>\n",
       "<table border=\"1\" class=\"dataframe\">\n",
       "  <thead>\n",
       "    <tr style=\"text-align: right;\">\n",
       "      <th></th>\n",
       "      <th>Month</th>\n",
       "      <th>Monthly consumption, TWh</th>\n",
       "      <th>Cumulative consumption, TWh</th>\n",
       "    </tr>\n",
       "  </thead>\n",
       "  <tbody>\n",
       "    <tr>\n",
       "      <th>0</th>\n",
       "      <td>Jul-10</td>\n",
       "      <td>0.0000</td>\n",
       "      <td>0.0000</td>\n",
       "    </tr>\n",
       "    <tr>\n",
       "      <th>1</th>\n",
       "      <td>Aug-10</td>\n",
       "      <td>0.0000</td>\n",
       "      <td>0.0001</td>\n",
       "    </tr>\n",
       "    <tr>\n",
       "      <th>2</th>\n",
       "      <td>Sep-10</td>\n",
       "      <td>0.0001</td>\n",
       "      <td>0.0001</td>\n",
       "    </tr>\n",
       "    <tr>\n",
       "      <th>3</th>\n",
       "      <td>Oct-10</td>\n",
       "      <td>0.0002</td>\n",
       "      <td>0.0003</td>\n",
       "    </tr>\n",
       "    <tr>\n",
       "      <th>4</th>\n",
       "      <td>Nov-10</td>\n",
       "      <td>0.0003</td>\n",
       "      <td>0.0006</td>\n",
       "    </tr>\n",
       "  </tbody>\n",
       "</table>\n",
       "</div>"
      ],
      "text/plain": [
       "    Month  Monthly consumption, TWh  Cumulative consumption, TWh\n",
       "0  Jul-10                    0.0000                       0.0000\n",
       "1  Aug-10                    0.0000                       0.0001\n",
       "2  Sep-10                    0.0001                       0.0001\n",
       "3  Oct-10                    0.0002                       0.0003\n",
       "4  Nov-10                    0.0003                       0.0006"
      ]
     },
     "execution_count": 608,
     "metadata": {},
     "output_type": "execute_result"
    }
   ],
   "source": [
    "electricity_consumption_data.head()"
   ]
  },
  {
   "cell_type": "markdown",
   "metadata": {},
   "source": [
    "Droping unwanted columns from datasets"
   ]
  },
  {
   "cell_type": "code",
   "execution_count": 609,
   "metadata": {},
   "outputs": [],
   "source": [
    "BTC_data.drop(['Open', 'High', 'Low', 'Adj Close', 'Volume'], axis=1, inplace=True)\n",
    "cpu_data.drop('old_cpu_index', axis=1, inplace=True)\n",
    "vix_data.drop(['Open', 'High', 'Low', 'Adj Close', 'Volume'], axis=1, inplace=True)\n",
    "# electricity_consumption_data.drop(['Cumulative consumption, TWh'],axis=1, inplace=True)"
   ]
  },
  {
   "cell_type": "markdown",
   "metadata": {},
   "source": [
    "Checking for null values"
   ]
  },
  {
   "cell_type": "code",
   "execution_count": 610,
   "metadata": {},
   "outputs": [
    {
     "name": "stdout",
     "output_type": "stream",
     "text": [
      "CPU DATA : date         0\n",
      "cpu_index    0\n",
      "dtype: int64\n",
      "VIX DATA : Date     0\n",
      "Close    6\n",
      "dtype: int64\n",
      "BTC DATA : Date     0\n",
      "Close    0\n",
      "dtype: int64\n",
      "CO2 DATA : Date and Time                    0\n",
      "Emission intensity, gCO2e/kWh    0\n",
      "dtype: int64\n",
      "ELECTRICITY DATA : Month                          0\n",
      "Monthly consumption, TWh       0\n",
      "Cumulative consumption, TWh    0\n",
      "dtype: int64\n"
     ]
    }
   ],
   "source": [
    "print('CPU DATA :',cpu_data.isnull().sum())\n",
    "print('VIX DATA :',vix_data.isnull().sum())\n",
    "print('BTC DATA :',BTC_data.isnull().sum())\n",
    "print('CO2 DATA :',co2_data.isnull().sum())\n",
    "print('ELECTRICITY DATA :',electricity_consumption_data.isnull().sum())"
   ]
  },
  {
   "cell_type": "markdown",
   "metadata": {},
   "source": [
    "Droping null values from vix_data"
   ]
  },
  {
   "cell_type": "code",
   "execution_count": 611,
   "metadata": {},
   "outputs": [],
   "source": [
    "vix_data.dropna(inplace=True)\n"
   ]
  },
  {
   "cell_type": "code",
   "execution_count": 612,
   "metadata": {},
   "outputs": [
    {
     "data": {
      "text/plain": [
       "Date     0\n",
       "Close    0\n",
       "dtype: int64"
      ]
     },
     "execution_count": 612,
     "metadata": {},
     "output_type": "execute_result"
    }
   ],
   "source": [
    "vix_data.isnull().sum()"
   ]
  },
  {
   "cell_type": "markdown",
   "metadata": {},
   "source": [
    "Setting the name for the date column to \"Date\"  for each dataset. "
   ]
  },
  {
   "cell_type": "code",
   "execution_count": 613,
   "metadata": {},
   "outputs": [],
   "source": [
    "cpu_data.rename(columns={'date': 'Date'}, inplace=True)\n",
    "co2_data.rename(columns={'Date and Time': 'Date'}, inplace=True)\n",
    "electricity_consumption_data.rename(columns={'Month': 'Date'}, inplace=True)"
   ]
  },
  {
   "cell_type": "markdown",
   "metadata": {},
   "source": [
    "# Converting date colums to datetime format."
   ]
  },
  {
   "cell_type": "markdown",
   "metadata": {},
   "source": [
    "The format of date in CPU index is not correct so we cannot convert CPU index date to datetime directly so we have to remove rows from the start till 329 row."
   ]
  },
  {
   "cell_type": "markdown",
   "metadata": {},
   "source": [
    "This will also help us in merging so let's select only data from 330 to 433.\n",
    "Which start from OCT-14 to MAY-23."
   ]
  },
  {
   "cell_type": "code",
   "execution_count": 614,
   "metadata": {},
   "outputs": [],
   "source": [
    "cpu_selected_data = cpu_data.loc[330:433]"
   ]
  },
  {
   "cell_type": "code",
   "execution_count": 615,
   "metadata": {},
   "outputs": [
    {
     "data": {
      "text/html": [
       "<div>\n",
       "<style scoped>\n",
       "    .dataframe tbody tr th:only-of-type {\n",
       "        vertical-align: middle;\n",
       "    }\n",
       "\n",
       "    .dataframe tbody tr th {\n",
       "        vertical-align: top;\n",
       "    }\n",
       "\n",
       "    .dataframe thead th {\n",
       "        text-align: right;\n",
       "    }\n",
       "</style>\n",
       "<table border=\"1\" class=\"dataframe\">\n",
       "  <thead>\n",
       "    <tr style=\"text-align: right;\">\n",
       "      <th></th>\n",
       "      <th>Date</th>\n",
       "      <th>cpu_index</th>\n",
       "    </tr>\n",
       "  </thead>\n",
       "  <tbody>\n",
       "    <tr>\n",
       "      <th>330</th>\n",
       "      <td>14-Oct</td>\n",
       "      <td>54.672738</td>\n",
       "    </tr>\n",
       "  </tbody>\n",
       "</table>\n",
       "</div>"
      ],
      "text/plain": [
       "       Date  cpu_index\n",
       "330  14-Oct  54.672738"
      ]
     },
     "execution_count": 615,
     "metadata": {},
     "output_type": "execute_result"
    }
   ],
   "source": [
    "cpu_selected_data.head(1)"
   ]
  },
  {
   "cell_type": "code",
   "execution_count": 616,
   "metadata": {},
   "outputs": [
    {
     "data": {
      "text/html": [
       "<div>\n",
       "<style scoped>\n",
       "    .dataframe tbody tr th:only-of-type {\n",
       "        vertical-align: middle;\n",
       "    }\n",
       "\n",
       "    .dataframe tbody tr th {\n",
       "        vertical-align: top;\n",
       "    }\n",
       "\n",
       "    .dataframe thead th {\n",
       "        text-align: right;\n",
       "    }\n",
       "</style>\n",
       "<table border=\"1\" class=\"dataframe\">\n",
       "  <thead>\n",
       "    <tr style=\"text-align: right;\">\n",
       "      <th></th>\n",
       "      <th>Date</th>\n",
       "      <th>cpu_index</th>\n",
       "    </tr>\n",
       "  </thead>\n",
       "  <tbody>\n",
       "    <tr>\n",
       "      <th>433</th>\n",
       "      <td>23-May</td>\n",
       "      <td>227.940545</td>\n",
       "    </tr>\n",
       "  </tbody>\n",
       "</table>\n",
       "</div>"
      ],
      "text/plain": [
       "       Date   cpu_index\n",
       "433  23-May  227.940545"
      ]
     },
     "execution_count": 616,
     "metadata": {},
     "output_type": "execute_result"
    }
   ],
   "source": [
    "cpu_selected_data.tail(1)"
   ]
  },
  {
   "cell_type": "markdown",
   "metadata": {},
   "source": [
    "Converting date from 'cpu_selected_data' to datetime."
   ]
  },
  {
   "cell_type": "code",
   "execution_count": 617,
   "metadata": {},
   "outputs": [
    {
     "name": "stderr",
     "output_type": "stream",
     "text": [
      "C:\\Users\\Idris Khan\\AppData\\Local\\Temp\\ipykernel_252\\1873947492.py:1: SettingWithCopyWarning: \n",
      "A value is trying to be set on a copy of a slice from a DataFrame.\n",
      "Try using .loc[row_indexer,col_indexer] = value instead\n",
      "\n",
      "See the caveats in the documentation: https://pandas.pydata.org/pandas-docs/stable/user_guide/indexing.html#returning-a-view-versus-a-copy\n",
      "  cpu_selected_data['Date'] = pd.to_datetime(cpu_selected_data['Date'], format='%y-%b')\n"
     ]
    }
   ],
   "source": [
    "cpu_selected_data['Date'] = pd.to_datetime(cpu_selected_data['Date'], format='%y-%b')"
   ]
  },
  {
   "cell_type": "markdown",
   "metadata": {},
   "source": [
    "Setting Date as an index for all the datasets."
   ]
  },
  {
   "cell_type": "code",
   "execution_count": 618,
   "metadata": {},
   "outputs": [],
   "source": [
    "vix_data.set_index('Date', inplace=True)\n",
    "BTC_data.set_index('Date', inplace=True)\n",
    "cpu_selected_data.set_index('Date',inplace=True)\n",
    "electricity_consumption_data.set_index('Date',inplace=True)\n",
    "co2_data.set_index('Date', inplace=True)"
   ]
  },
  {
   "cell_type": "code",
   "execution_count": 619,
   "metadata": {},
   "outputs": [],
   "source": [
    "vix_data.index = pd.to_datetime(vix_data.index)\n",
    "BTC_data.index = pd.to_datetime(BTC_data.index)\n",
    "electricity_consumption_data.index = pd.to_datetime(electricity_consumption_data.index,format='%b-%y')"
   ]
  },
  {
   "cell_type": "markdown",
   "metadata": {},
   "source": [
    "Grouping data by month, calculating the mean for each month, and set the 1st date of each month as the index in CO2."
   ]
  },
  {
   "cell_type": "code",
   "execution_count": 620,
   "metadata": {},
   "outputs": [],
   "source": [
    "co2_data.index = pd.to_datetime(co2_data.index)\n",
    "\n",
    "co2_data_selected_monthly_mean = co2_data.resample('M').mean()\n",
    "co2_data_selected_monthly_mean.index = co2_data_selected_monthly_mean.index.to_period('M').to_timestamp()"
   ]
  },
  {
   "cell_type": "markdown",
   "metadata": {},
   "source": [
    "Let's also do some cleaning with other datasets and remove rows so that all datasets align with each other. This will help ensure that the datasets cover the same time period, making the analysis more consistent and meaningful."
   ]
  },
  {
   "cell_type": "markdown",
   "metadata": {},
   "source": [
    "BTC dataset start from '2014-10-01' and end on '2023-10-1' so we will select from the start till the '2023-05-01'"
   ]
  },
  {
   "cell_type": "code",
   "execution_count": 621,
   "metadata": {},
   "outputs": [],
   "source": [
    "\n",
    "BTC_data_selected = BTC_data.loc[:'2023-05-01']"
   ]
  },
  {
   "cell_type": "markdown",
   "metadata": {},
   "source": [
    "VIX dataset start from '2014-02-01' and end on '2023-05-01' so we will select data from '2014-10-01' till the end"
   ]
  },
  {
   "cell_type": "code",
   "execution_count": 622,
   "metadata": {},
   "outputs": [],
   "source": [
    "vix_data_selected = vix_data.loc['2014-10-01':]"
   ]
  },
  {
   "cell_type": "markdown",
   "metadata": {},
   "source": [
    "CO2 and Electricity datasets are large so we just have to select from [2014-10-01] to [2023-05-01]"
   ]
  },
  {
   "cell_type": "code",
   "execution_count": 623,
   "metadata": {},
   "outputs": [],
   "source": [
    "co2_data_selected = co2_data_selected_monthly_mean.loc['2014-10-01':'2023-05-01']\n",
    "electricity_data_selected = electricity_consumption_data.loc['2014-10-01':'2023-05-01']"
   ]
  },
  {
   "cell_type": "code",
   "execution_count": 624,
   "metadata": {},
   "outputs": [
    {
     "name": "stdout",
     "output_type": "stream",
     "text": [
      "vix_data_selected shape is (104, 1)\n",
      "BTC_data_selected shape is (104, 1)\n",
      "cpu_data_selected shape is (104, 1)\n",
      "co2_data_selected shape is (104, 1)\n",
      "electricity_data_selected shape is (104, 2)\n"
     ]
    }
   ],
   "source": [
    "print('vix_data_selected shape is', vix_data_selected.shape)\n",
    "print('BTC_data_selected shape is', BTC_data_selected.shape)\n",
    "print('cpu_data_selected shape is', cpu_selected_data.shape)\n",
    "print('co2_data_selected shape is', co2_data_selected.shape)\n",
    "print('electricity_data_selected shape is', electricity_data_selected.shape)"
   ]
  },
  {
   "cell_type": "code",
   "execution_count": 625,
   "metadata": {},
   "outputs": [
    {
     "data": {
      "text/plain": [
       "63"
      ]
     },
     "execution_count": 625,
     "metadata": {},
     "output_type": "execute_result"
    }
   ],
   "source": [
    "co2_data_selected.duplicated().sum()"
   ]
  },
  {
   "cell_type": "markdown",
   "metadata": {},
   "source": [
    "So as we can see CO2 data also have 62 duplicates but we cannot drop them because if we do we will lose more data.\n",
    "And CO2 date have been set but the the dates are different let's set them so that it have the 1st date for each month in data. "
   ]
  },
  {
   "cell_type": "markdown",
   "metadata": {},
   "source": [
    "# The data is ready now let's merge them"
   ]
  },
  {
   "cell_type": "code",
   "execution_count": 635,
   "metadata": {},
   "outputs": [],
   "source": [
    "merged_data = vix_data_selected.merge(BTC_data_selected, how='inner', left_index=True, right_index=True)\n",
    "merged_data = merged_data.merge(cpu_selected_data, how='inner', left_index=True, right_index=True)\n",
    "merged_data = merged_data.merge(co2_data_selected, how='inner', left_index=True, right_index=True)\n",
    "merged_data = merged_data.merge(electricity_data_selected, how='inner', left_index=True, right_index=True)\n"
   ]
  },
  {
   "cell_type": "code",
   "execution_count": 639,
   "metadata": {},
   "outputs": [
    {
     "data": {
      "text/html": [
       "<div>\n",
       "<style scoped>\n",
       "    .dataframe tbody tr th:only-of-type {\n",
       "        vertical-align: middle;\n",
       "    }\n",
       "\n",
       "    .dataframe tbody tr th {\n",
       "        vertical-align: top;\n",
       "    }\n",
       "\n",
       "    .dataframe thead th {\n",
       "        text-align: right;\n",
       "    }\n",
       "</style>\n",
       "<table border=\"1\" class=\"dataframe\">\n",
       "  <thead>\n",
       "    <tr style=\"text-align: right;\">\n",
       "      <th></th>\n",
       "      <th>Close_x</th>\n",
       "      <th>Close_y</th>\n",
       "      <th>cpu_index</th>\n",
       "      <th>Emission intensity, gCO2e/kWh</th>\n",
       "      <th>Monthly consumption, TWh</th>\n",
       "      <th>Cumulative consumption, TWh</th>\n",
       "    </tr>\n",
       "    <tr>\n",
       "      <th>Date</th>\n",
       "      <th></th>\n",
       "      <th></th>\n",
       "      <th></th>\n",
       "      <th></th>\n",
       "      <th></th>\n",
       "      <th></th>\n",
       "    </tr>\n",
       "  </thead>\n",
       "  <tbody>\n",
       "    <tr>\n",
       "      <th>2014-10-01</th>\n",
       "      <td>14.030000</td>\n",
       "      <td>338.321014</td>\n",
       "      <td>54.672738</td>\n",
       "      <td>554.532145</td>\n",
       "      <td>0.2925</td>\n",
       "      <td>5.3881</td>\n",
       "    </tr>\n",
       "    <tr>\n",
       "      <th>2014-11-01</th>\n",
       "      <td>13.330000</td>\n",
       "      <td>378.046997</td>\n",
       "      <td>131.020044</td>\n",
       "      <td>554.532145</td>\n",
       "      <td>0.3150</td>\n",
       "      <td>5.7031</td>\n",
       "    </tr>\n",
       "    <tr>\n",
       "      <th>2014-12-01</th>\n",
       "      <td>19.200001</td>\n",
       "      <td>320.192993</td>\n",
       "      <td>78.028200</td>\n",
       "      <td>554.129503</td>\n",
       "      <td>0.3238</td>\n",
       "      <td>6.0269</td>\n",
       "    </tr>\n",
       "    <tr>\n",
       "      <th>2015-01-01</th>\n",
       "      <td>20.969999</td>\n",
       "      <td>217.464005</td>\n",
       "      <td>103.857210</td>\n",
       "      <td>542.050238</td>\n",
       "      <td>0.3308</td>\n",
       "      <td>6.3577</td>\n",
       "    </tr>\n",
       "    <tr>\n",
       "      <th>2015-02-01</th>\n",
       "      <td>13.340000</td>\n",
       "      <td>254.263000</td>\n",
       "      <td>89.559591</td>\n",
       "      <td>542.050238</td>\n",
       "      <td>0.2615</td>\n",
       "      <td>6.6192</td>\n",
       "    </tr>\n",
       "  </tbody>\n",
       "</table>\n",
       "</div>"
      ],
      "text/plain": [
       "              Close_x     Close_y   cpu_index  Emission intensity, gCO2e/kWh  \\\n",
       "Date                                                                           \n",
       "2014-10-01  14.030000  338.321014   54.672738                     554.532145   \n",
       "2014-11-01  13.330000  378.046997  131.020044                     554.532145   \n",
       "2014-12-01  19.200001  320.192993   78.028200                     554.129503   \n",
       "2015-01-01  20.969999  217.464005  103.857210                     542.050238   \n",
       "2015-02-01  13.340000  254.263000   89.559591                     542.050238   \n",
       "\n",
       "            Monthly consumption, TWh  Cumulative consumption, TWh  \n",
       "Date                                                               \n",
       "2014-10-01                    0.2925                       5.3881  \n",
       "2014-11-01                    0.3150                       5.7031  \n",
       "2014-12-01                    0.3238                       6.0269  \n",
       "2015-01-01                    0.3308                       6.3577  \n",
       "2015-02-01                    0.2615                       6.6192  "
      ]
     },
     "execution_count": 639,
     "metadata": {},
     "output_type": "execute_result"
    }
   ],
   "source": [
    "merged_data.head()"
   ]
  },
  {
   "cell_type": "code",
   "execution_count": 640,
   "metadata": {},
   "outputs": [],
   "source": [
    "merged_data.rename(columns={'Close_x': 'VIX_Close', 'Close_y': 'BTC_Close'}, inplace=True)"
   ]
  },
  {
   "cell_type": "code",
   "execution_count": 641,
   "metadata": {},
   "outputs": [
    {
     "data": {
      "text/plain": [
       "Index(['VIX_Close', 'BTC_Close', 'cpu_index', 'Emission intensity, gCO2e/kWh',\n",
       "       'Monthly consumption, TWh', 'Cumulative consumption, TWh'],\n",
       "      dtype='object')"
      ]
     },
     "execution_count": 641,
     "metadata": {},
     "output_type": "execute_result"
    }
   ],
   "source": [
    "merged_data.columns"
   ]
  },
  {
   "cell_type": "code",
   "execution_count": 642,
   "metadata": {},
   "outputs": [
    {
     "data": {
      "text/html": [
       "<div>\n",
       "<style scoped>\n",
       "    .dataframe tbody tr th:only-of-type {\n",
       "        vertical-align: middle;\n",
       "    }\n",
       "\n",
       "    .dataframe tbody tr th {\n",
       "        vertical-align: top;\n",
       "    }\n",
       "\n",
       "    .dataframe thead th {\n",
       "        text-align: right;\n",
       "    }\n",
       "</style>\n",
       "<table border=\"1\" class=\"dataframe\">\n",
       "  <thead>\n",
       "    <tr style=\"text-align: right;\">\n",
       "      <th></th>\n",
       "      <th>VIX_Close</th>\n",
       "      <th>BTC_Close</th>\n",
       "      <th>cpu_index</th>\n",
       "      <th>Emission intensity, gCO2e/kWh</th>\n",
       "      <th>Monthly consumption, TWh</th>\n",
       "      <th>Cumulative consumption, TWh</th>\n",
       "    </tr>\n",
       "    <tr>\n",
       "      <th>Date</th>\n",
       "      <th></th>\n",
       "      <th></th>\n",
       "      <th></th>\n",
       "      <th></th>\n",
       "      <th></th>\n",
       "      <th></th>\n",
       "    </tr>\n",
       "  </thead>\n",
       "  <tbody>\n",
       "    <tr>\n",
       "      <th>2014-10-01</th>\n",
       "      <td>14.030000</td>\n",
       "      <td>338.321014</td>\n",
       "      <td>54.672738</td>\n",
       "      <td>554.532145</td>\n",
       "      <td>0.2925</td>\n",
       "      <td>5.3881</td>\n",
       "    </tr>\n",
       "    <tr>\n",
       "      <th>2014-11-01</th>\n",
       "      <td>13.330000</td>\n",
       "      <td>378.046997</td>\n",
       "      <td>131.020044</td>\n",
       "      <td>554.532145</td>\n",
       "      <td>0.3150</td>\n",
       "      <td>5.7031</td>\n",
       "    </tr>\n",
       "    <tr>\n",
       "      <th>2014-12-01</th>\n",
       "      <td>19.200001</td>\n",
       "      <td>320.192993</td>\n",
       "      <td>78.028200</td>\n",
       "      <td>554.129503</td>\n",
       "      <td>0.3238</td>\n",
       "      <td>6.0269</td>\n",
       "    </tr>\n",
       "    <tr>\n",
       "      <th>2015-01-01</th>\n",
       "      <td>20.969999</td>\n",
       "      <td>217.464005</td>\n",
       "      <td>103.857210</td>\n",
       "      <td>542.050238</td>\n",
       "      <td>0.3308</td>\n",
       "      <td>6.3577</td>\n",
       "    </tr>\n",
       "    <tr>\n",
       "      <th>2015-02-01</th>\n",
       "      <td>13.340000</td>\n",
       "      <td>254.263000</td>\n",
       "      <td>89.559591</td>\n",
       "      <td>542.050238</td>\n",
       "      <td>0.2615</td>\n",
       "      <td>6.6192</td>\n",
       "    </tr>\n",
       "  </tbody>\n",
       "</table>\n",
       "</div>"
      ],
      "text/plain": [
       "            VIX_Close   BTC_Close   cpu_index  Emission intensity, gCO2e/kWh  \\\n",
       "Date                                                                           \n",
       "2014-10-01  14.030000  338.321014   54.672738                     554.532145   \n",
       "2014-11-01  13.330000  378.046997  131.020044                     554.532145   \n",
       "2014-12-01  19.200001  320.192993   78.028200                     554.129503   \n",
       "2015-01-01  20.969999  217.464005  103.857210                     542.050238   \n",
       "2015-02-01  13.340000  254.263000   89.559591                     542.050238   \n",
       "\n",
       "            Monthly consumption, TWh  Cumulative consumption, TWh  \n",
       "Date                                                               \n",
       "2014-10-01                    0.2925                       5.3881  \n",
       "2014-11-01                    0.3150                       5.7031  \n",
       "2014-12-01                    0.3238                       6.0269  \n",
       "2015-01-01                    0.3308                       6.3577  \n",
       "2015-02-01                    0.2615                       6.6192  "
      ]
     },
     "execution_count": 642,
     "metadata": {},
     "output_type": "execute_result"
    }
   ],
   "source": [
    "merged_data.head()"
   ]
  },
  {
   "cell_type": "code",
   "execution_count": 644,
   "metadata": {},
   "outputs": [],
   "source": [
    "merged_data.to_csv('DATA/CPU+VIX+BTC.csv')"
   ]
  },
  {
   "cell_type": "code",
   "execution_count": 643,
   "metadata": {},
   "outputs": [
    {
     "data": {
      "text/html": [
       "<div>\n",
       "<style scoped>\n",
       "    .dataframe tbody tr th:only-of-type {\n",
       "        vertical-align: middle;\n",
       "    }\n",
       "\n",
       "    .dataframe tbody tr th {\n",
       "        vertical-align: top;\n",
       "    }\n",
       "\n",
       "    .dataframe thead th {\n",
       "        text-align: right;\n",
       "    }\n",
       "</style>\n",
       "<table border=\"1\" class=\"dataframe\">\n",
       "  <thead>\n",
       "    <tr style=\"text-align: right;\">\n",
       "      <th></th>\n",
       "      <th>VIX_Close</th>\n",
       "      <th>BTC_Close</th>\n",
       "      <th>cpu_index</th>\n",
       "      <th>Emission intensity, gCO2e/kWh</th>\n",
       "      <th>Monthly consumption, TWh</th>\n",
       "      <th>Cumulative consumption, TWh</th>\n",
       "    </tr>\n",
       "  </thead>\n",
       "  <tbody>\n",
       "    <tr>\n",
       "      <th>VIX_Close</th>\n",
       "      <td>1.000000</td>\n",
       "      <td>0.294896</td>\n",
       "      <td>0.337834</td>\n",
       "      <td>-0.058487</td>\n",
       "      <td>0.474759</td>\n",
       "      <td>0.450752</td>\n",
       "    </tr>\n",
       "    <tr>\n",
       "      <th>BTC_Close</th>\n",
       "      <td>0.294896</td>\n",
       "      <td>1.000000</td>\n",
       "      <td>0.477942</td>\n",
       "      <td>-0.055251</td>\n",
       "      <td>0.798506</td>\n",
       "      <td>0.754098</td>\n",
       "    </tr>\n",
       "    <tr>\n",
       "      <th>cpu_index</th>\n",
       "      <td>0.337834</td>\n",
       "      <td>0.477942</td>\n",
       "      <td>1.000000</td>\n",
       "      <td>-0.194894</td>\n",
       "      <td>0.595967</td>\n",
       "      <td>0.588597</td>\n",
       "    </tr>\n",
       "    <tr>\n",
       "      <th>Emission intensity, gCO2e/kWh</th>\n",
       "      <td>-0.058487</td>\n",
       "      <td>-0.055251</td>\n",
       "      <td>-0.194894</td>\n",
       "      <td>1.000000</td>\n",
       "      <td>-0.223102</td>\n",
       "      <td>-0.261675</td>\n",
       "    </tr>\n",
       "    <tr>\n",
       "      <th>Monthly consumption, TWh</th>\n",
       "      <td>0.474759</td>\n",
       "      <td>0.798506</td>\n",
       "      <td>0.595967</td>\n",
       "      <td>-0.223102</td>\n",
       "      <td>1.000000</td>\n",
       "      <td>0.914569</td>\n",
       "    </tr>\n",
       "    <tr>\n",
       "      <th>Cumulative consumption, TWh</th>\n",
       "      <td>0.450752</td>\n",
       "      <td>0.754098</td>\n",
       "      <td>0.588597</td>\n",
       "      <td>-0.261675</td>\n",
       "      <td>0.914569</td>\n",
       "      <td>1.000000</td>\n",
       "    </tr>\n",
       "  </tbody>\n",
       "</table>\n",
       "</div>"
      ],
      "text/plain": [
       "                               VIX_Close  BTC_Close  cpu_index  \\\n",
       "VIX_Close                       1.000000   0.294896   0.337834   \n",
       "BTC_Close                       0.294896   1.000000   0.477942   \n",
       "cpu_index                       0.337834   0.477942   1.000000   \n",
       "Emission intensity, gCO2e/kWh  -0.058487  -0.055251  -0.194894   \n",
       "Monthly consumption, TWh        0.474759   0.798506   0.595967   \n",
       "Cumulative consumption, TWh     0.450752   0.754098   0.588597   \n",
       "\n",
       "                               Emission intensity, gCO2e/kWh  \\\n",
       "VIX_Close                                          -0.058487   \n",
       "BTC_Close                                          -0.055251   \n",
       "cpu_index                                          -0.194894   \n",
       "Emission intensity, gCO2e/kWh                       1.000000   \n",
       "Monthly consumption, TWh                           -0.223102   \n",
       "Cumulative consumption, TWh                        -0.261675   \n",
       "\n",
       "                               Monthly consumption, TWh  \\\n",
       "VIX_Close                                      0.474759   \n",
       "BTC_Close                                      0.798506   \n",
       "cpu_index                                      0.595967   \n",
       "Emission intensity, gCO2e/kWh                 -0.223102   \n",
       "Monthly consumption, TWh                       1.000000   \n",
       "Cumulative consumption, TWh                    0.914569   \n",
       "\n",
       "                               Cumulative consumption, TWh  \n",
       "VIX_Close                                         0.450752  \n",
       "BTC_Close                                         0.754098  \n",
       "cpu_index                                         0.588597  \n",
       "Emission intensity, gCO2e/kWh                    -0.261675  \n",
       "Monthly consumption, TWh                          0.914569  \n",
       "Cumulative consumption, TWh                       1.000000  "
      ]
     },
     "execution_count": 643,
     "metadata": {},
     "output_type": "execute_result"
    }
   ],
   "source": [
    "merged_data.corr()"
   ]
  },
  {
   "cell_type": "code",
   "execution_count": 632,
   "metadata": {},
   "outputs": [],
   "source": [
    "corr = merged_data.corr()"
   ]
  },
  {
   "cell_type": "code",
   "execution_count": 633,
   "metadata": {},
   "outputs": [],
   "source": [
    "corr.to_csv('DATA/CPU+VIX+BTC_Corr.csv')"
   ]
  },
  {
   "cell_type": "code",
   "execution_count": 634,
   "metadata": {},
   "outputs": [
    {
     "data": {
      "image/png": "[encoded data removed]",
      "text/plain": [
       "<Figure size 1000x600 with 1 Axes>"
      ]
     },
     "metadata": {},
     "output_type": "display_data"
    },
    {
     "data": {
      "image/png": "[encoded data removed]",
      "text/plain": [
       "<Figure size 1000x600 with 1 Axes>"
      ]
     },
     "metadata": {},
     "output_type": "display_data"
    }
   ],
   "source": [
    "import seaborn as sns\n",
    "import matplotlib.pyplot as plt\n",
    "\n",
    "# Create a regression plot for BTC and CPU\n",
    "plt.figure(figsize=(10, 6))\n",
    "sns.regplot(x='cpu_index', y='BTC_Close', data=merged_data, scatter_kws={'s': 10})\n",
    "plt.xlabel('CPU Index')\n",
    "plt.ylabel('Bitcoin Close Price')\n",
    "plt.title('Regression Plot of Bitcoin Close Price vs CPU Index')\n",
    "plt.show()\n",
    "\n",
    "# Create a regression plot for BTC and VIX\n",
    "plt.figure(figsize=(10, 6))\n",
    "sns.regplot(x='VIX_Close', y='BTC_Close', data=merged_data, scatter_kws={'s': 10})\n",
    "plt.xlabel('VIX Close')\n",
    "plt.ylabel('Bitcoin Close Price')\n",
    "plt.title('Regression Plot of Bitcoin Close Price vs VIX')\n",
    "plt.show()\n"
   ]
  },
  {
   "cell_type": "code",
   "execution_count": null,
   "metadata": {},
   "outputs": [],
   "source": []
  }
 ],
 "metadata": {
  "kernelspec": {
   "display_name": "base",
   "language": "python",
   "name": "python3"
  },
  "language_info": {
   "codemirror_mode": {
    "name": "ipython",
    "version": 3
   },
   "file_extension": ".py",
   "mimetype": "text/x-python",
   "name": "python",
   "nbconvert_exporter": "python",
   "pygments_lexer": "ipython3",
   "version": "3.11.5"
  }
 },
 "nbformat": 4,
 "nbformat_minor": 2
}
